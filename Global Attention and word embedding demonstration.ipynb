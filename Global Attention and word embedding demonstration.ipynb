{
 "cells": [
  {
   "cell_type": "markdown",
   "metadata": {},
   "source": [
    "# Global Attention and word embedding demonstration\n",
    "\n",
    "This will briefly cover embedding and attention layer. Lemmatization and Stemming are not present here."
   ]
  },
  {
   "cell_type": "code",
   "execution_count": 9,
   "metadata": {},
   "outputs": [],
   "source": [
    "import tensorflow.keras as keras\n",
    "from keras.preprocessing.text import Tokenizer\n",
    "from keras.layers import Input, Embedding, Dense, LSTM\n",
    "from keras.models import Model\n",
    "import numpy as np\n",
    "import pandas as pd"
   ]
  },
  {
   "cell_type": "markdown",
   "metadata": {},
   "source": [
    "## Dataset import\n",
    "\n",
    "We import the amazon_cells_labelled csv dataset. Available <a href=\"https://archive.ics.uci.edu/ml/datasets/Sentiment+Labelled+Sentences\">here</a>"
   ]
  },
  {
   "cell_type": "code",
   "execution_count": 10,
   "metadata": {},
   "outputs": [
    {
     "name": "stderr",
     "output_type": "stream",
     "text": [
      "c:\\users\\leximus\\appdata\\local\\programs\\python\\python36\\lib\\site-packages\\ipykernel_launcher.py:1: ParserWarning: Falling back to the 'python' engine because the 'c' engine does not support regex separators (separators > 1 char and different from '\\s+' are interpreted as regex); you can avoid this warning by specifying engine='python'.\n",
      "  \"\"\"Entry point for launching an IPython kernel.\n"
     ]
    },
    {
     "data": {
      "text/plain": [
       "1000"
      ]
     },
     "execution_count": 10,
     "metadata": {},
     "output_type": "execute_result"
    }
   ],
   "source": [
    "df = pd.read_csv(\"amazon_cells_labelled.txt\", header=None, delimiter=\"\\\\t\")\n",
    "len(df) #1000 samples"
   ]
  },
  {
   "cell_type": "markdown",
   "metadata": {},
   "source": [
    "## Generating tokens"
   ]
  },
  {
   "cell_type": "code",
   "execution_count": 21,
   "metadata": {},
   "outputs": [
    {
     "name": "stdout",
     "output_type": "stream",
     "text": [
      "So there is no way for me to plug it in here in the US unless I go by a converter.\n",
      "converted to:\n",
      "[33, 117, 5, 53, 214, 11, 47, 8, 155, 4, 19, 337, 19, 1, 546, 416, 2, 241, 190, 6, 812]\n"
     ]
    }
   ],
   "source": [
    "#We use a one hot encoder Each sentence is converted to a token encoding.\n",
    "#In other term, we replace all \"King\" by the same numerical value.\n",
    "t = Tokenizer()\n",
    "t.fit_on_texts(df[0])\n",
    "text_matrix = t.texts_to_sequences(df[0])\n",
    "print(df[0][0])\n",
    "print(\"converted to:\")\n",
    "print(text_matrix[0])"
   ]
  },
  {
   "cell_type": "markdown",
   "metadata": {},
   "source": [
    "In this case, 33 is equals to \"So\"."
   ]
  },
  {
   "cell_type": "code",
   "execution_count": 24,
   "metadata": {},
   "outputs": [
    {
     "data": {
      "text/plain": [
       "'so'"
      ]
     },
     "execution_count": 24,
     "metadata": {},
     "output_type": "execute_result"
    }
   ],
   "source": [
    "t.index_word[33]"
   ]
  },
  {
   "cell_type": "markdown",
   "metadata": {},
   "source": [
    "We need all our input to have the same size. In this case, we look for the longest sentence."
   ]
  },
  {
   "cell_type": "code",
   "execution_count": 26,
   "metadata": {},
   "outputs": [
    {
     "name": "stdout",
     "output_type": "stream",
     "text": [
      "The longest sentence is composed of 30 tokens.\n"
     ]
    }
   ],
   "source": [
    "s_length = 0\n",
    "for i in range(len(text_matrix)):\n",
    "    s_length = max(len(text_matrix[i]), s_length)\n",
    "print(\"The longest sentence is composed of \"+str(s_length)+\" tokens.\")"
   ]
  },
  {
   "cell_type": "markdown",
   "metadata": {},
   "source": [
    "## Padding\n",
    "\n",
    "If the longest sentence is made of 30 tokens, there are some which are smaller. We will thus add a \"0\" (not used in the dictionnary) to signify \"empty token\" there.\n",
    "\n",
    "This will help us to complete the vector of the other sizes"
   ]
  },
  {
   "cell_type": "code",
   "execution_count": 29,
   "metadata": {},
   "outputs": [
    {
     "name": "stdout",
     "output_type": "stream",
     "text": [
      "[33, 117, 5, 53, 214, 11, 47, 8, 155, 4, 19, 337, 19, 1, 546, 416, 2, 241, 190, 6, 812]\n",
      "[ 33 117   5  53 214  11  47   8 155   4  19 337  19   1 546 416   2 241\n",
      " 190   6 812   0   0   0   0   0   0   0   0   0]\n"
     ]
    }
   ],
   "source": [
    "from keras.preprocessing.sequence import pad_sequences\n",
    "\n",
    "print(text_matrix[0])\n",
    "\n",
    "text_pad = pad_sequences(text_matrix, maxlen=s_length, padding='post')\n",
    "\n",
    "print(text_pad[0])"
   ]
  },
  {
   "cell_type": "markdown",
   "metadata": {},
   "source": [
    "As you can see above, a bunch of \"0\" have been added to the vector to get an array of 32 elements."
   ]
  },
  {
   "cell_type": "code",
   "execution_count": 36,
   "metadata": {},
   "outputs": [],
   "source": [
    "#We know look for the size of our dictionnary, since we need it to configure the embedding layer.\n",
    "nb_tokens = len(t.word_index) + 1"
   ]
  },
  {
   "cell_type": "code",
   "execution_count": 67,
   "metadata": {},
   "outputs": [],
   "source": [
    "latent_dim = 32 #What is the size of the abstract representation we want to represent each word?\n",
    "#Every word can be represented by has much number you want.\n",
    "#Some of this neuron might generate the gender (King = 0 vs Queen = 1),\n",
    "# another the social status (King = 1 vs fool = 0), etc...\n",
    "#This is a hidden layer where the network will try to capture the differences.\n",
    "\n",
    "inp = Input(shape=(s_length,)) #We create a vector of 32 dimensions as input\n",
    "\n",
    "\n",
    "#input_dim : Size of the vocabulary dict\n",
    "#input_length : Size of the sentences.\n",
    "#output_dim : the latent dim variable, the size of the representation.\n",
    "x = Embedding(input_dim = nb_tokens, \\\n",
    "              input_length = s_length, \\\n",
    "              output_dim = latent_dim,\\\n",
    "              embeddings_regularizer = keras.regularizers.l2(.001))(inp) #Regularization to help learning\n",
    "\n",
    "x = LSTM(64, dropout = 0.2, recurrent_dropout = 0.2)(x) #A simplement LSTM network made of 64 cells\n",
    "\n",
    "out = Dense(1, activation='sigmoid')(x) #Our output neuron for the sentiment analysis.\n",
    "\n",
    "model = Model(inp, out)"
   ]
  },
  {
   "cell_type": "code",
   "execution_count": 68,
   "metadata": {},
   "outputs": [
    {
     "name": "stdout",
     "output_type": "stream",
     "text": [
      "_________________________________________________________________\n",
      "Layer (type)                 Output Shape              Param #   \n",
      "=================================================================\n",
      "input_14 (InputLayer)        (None, 30)                0         \n",
      "_________________________________________________________________\n",
      "embedding_13 (Embedding)     (None, 30, 32)            60128     \n",
      "_________________________________________________________________\n",
      "lstm_13 (LSTM)               (None, 64)                24832     \n",
      "_________________________________________________________________\n",
      "dense_11 (Dense)             (None, 1)                 65        \n",
      "=================================================================\n",
      "Total params: 85,025\n",
      "Trainable params: 85,025\n",
      "Non-trainable params: 0\n",
      "_________________________________________________________________\n"
     ]
    }
   ],
   "source": [
    "model.summary()"
   ]
  },
  {
   "cell_type": "code",
   "execution_count": 69,
   "metadata": {
    "scrolled": false
   },
   "outputs": [
    {
     "name": "stdout",
     "output_type": "stream",
     "text": [
      "Train on 800 samples, validate on 200 samples\n",
      "Epoch 1/15\n",
      "800/800 [==============================] - 3s 4ms/step - loss: 0.7305 - acc: 0.4713 - val_loss: 0.7170 - val_acc: 0.4550\n",
      "Epoch 2/15\n",
      "800/800 [==============================] - 1s 1ms/step - loss: 0.7076 - acc: 0.5112 - val_loss: 0.7032 - val_acc: 0.4550\n",
      "Epoch 3/15\n",
      "800/800 [==============================] - 1s 1ms/step - loss: 0.6982 - acc: 0.5112 - val_loss: 0.6998 - val_acc: 0.4550\n",
      "Epoch 4/15\n",
      "800/800 [==============================] - 1s 1ms/step - loss: 0.6941 - acc: 0.5112 - val_loss: 0.6961 - val_acc: 0.4550\n",
      "Epoch 5/15\n",
      "800/800 [==============================] - 1s 1ms/step - loss: 0.6933 - acc: 0.5112 - val_loss: 0.6944 - val_acc: 0.4550\n",
      "Epoch 6/15\n",
      "800/800 [==============================] - 1s 1ms/step - loss: 0.6929 - acc: 0.5275 - val_loss: 0.6943 - val_acc: 0.4550\n",
      "Epoch 7/15\n",
      "800/800 [==============================] - 1s 1ms/step - loss: 0.6927 - acc: 0.5312 - val_loss: 0.6957 - val_acc: 0.4550\n",
      "Epoch 8/15\n",
      "800/800 [==============================] - 1s 1ms/step - loss: 0.6863 - acc: 0.5800 - val_loss: 0.6815 - val_acc: 0.5500\n",
      "Epoch 9/15\n",
      "800/800 [==============================] - 1s 1ms/step - loss: 0.5452 - acc: 0.7450 - val_loss: 0.5783 - val_acc: 0.7500\n",
      "Epoch 10/15\n",
      "800/800 [==============================] - 1s 1ms/step - loss: 0.3412 - acc: 0.8850 - val_loss: 0.5539 - val_acc: 0.7650\n",
      "Epoch 11/15\n",
      "800/800 [==============================] - 1s 1ms/step - loss: 0.2080 - acc: 0.9438 - val_loss: 0.5598 - val_acc: 0.8050\n",
      "Epoch 12/15\n",
      "800/800 [==============================] - 1s 1ms/step - loss: 0.1305 - acc: 0.9725 - val_loss: 0.6236 - val_acc: 0.7950\n",
      "Epoch 13/15\n",
      "800/800 [==============================] - 1s 1ms/step - loss: 0.0934 - acc: 0.9812 - val_loss: 0.8347 - val_acc: 0.7700\n",
      "Epoch 14/15\n",
      "800/800 [==============================] - 1s 1ms/step - loss: 0.0796 - acc: 0.9862 - val_loss: 0.9760 - val_acc: 0.7650\n",
      "Epoch 15/15\n",
      "800/800 [==============================] - 1s 1ms/step - loss: 0.0861 - acc: 0.9812 - val_loss: 0.8390 - val_acc: 0.7900\n"
     ]
    }
   ],
   "source": [
    "#We build and fit the model\n",
    "\n",
    "model.compile(loss = 'binary_crossentropy', optimizer = 'adam', metrics = ['accuracy'])\n",
    "\n",
    "train_no_attention_history = model.fit(x = text_pad, y = df[1], \\\n",
    "                          batch_size = 64, epochs = 15, \\\n",
    "                          verbose = 1, shuffle = True, \\\n",
    "                          validation_split=0.2)"
   ]
  },
  {
   "cell_type": "code",
   "execution_count": 50,
   "metadata": {},
   "outputs": [],
   "source": [
    "import matplotlib.pyplot as plt"
   ]
  },
  {
   "cell_type": "code",
   "execution_count": 70,
   "metadata": {},
   "outputs": [
    {
     "data": {
      "text/plain": [
       "[<matplotlib.lines.Line2D at 0x2e2b8372198>]"
      ]
     },
     "execution_count": 70,
     "metadata": {},
     "output_type": "execute_result"
    },
    {
     "data": {
      "image/png": "[encoded data removed]",
      "text/plain": [
       "<Figure size 432x288 with 1 Axes>"
      ]
     },
     "metadata": {
      "needs_background": "light"
     },
     "output_type": "display_data"
    }
   ],
   "source": [
    "plt.plot(train_no_attention_history.history[\"val_acc\"])"
   ]
  },
  {
   "cell_type": "code",
   "execution_count": 53,
   "metadata": {},
   "outputs": [],
   "source": [
    "from keras.layers import Layer\n",
    "import keras.backend as K\n",
    "\n",
    "class Attention(Layer):\n",
    "    def __init__(self,**kwargs):\n",
    "        super(Attention,self).__init__(**kwargs)\n",
    "\n",
    "    def build(self,input_shape):\n",
    "        self.weight = self.add_weight(name=\"watt\", shape=(input_shape[-1], 1), initializer=\"normal\")\n",
    "        self.bias = self.add_weight(name=\"batt\", shape=(input_shape[1], 1), initializer=\"zeros\")        \n",
    "        super(Attention, self).build(input_shape)\n",
    "\n",
    "    def call(self,x):\n",
    "        att = K.expand_dims(K.softmax(K.squeeze(K.tanh(K.dot(x,self.weight) + self.bias), axis=-1)), axis=-1)\n",
    "        return K.sum(x*att, axis=1)\n",
    "\n",
    "    def compute_output_shape(self,input_shape):\n",
    "        return (input_shape[0], input_shape[-1])\n",
    "\n",
    "    def get_config(self):\n",
    "        return super(Attention,self).get_config()"
   ]
  },
  {
   "cell_type": "code",
   "execution_count": 72,
   "metadata": {
    "scrolled": false
   },
   "outputs": [
    {
     "name": "stdout",
     "output_type": "stream",
     "text": [
      "_________________________________________________________________\n",
      "Layer (type)                 Output Shape              Param #   \n",
      "=================================================================\n",
      "input_15 (InputLayer)        (None, 30)                0         \n",
      "_________________________________________________________________\n",
      "embedding_14 (Embedding)     (None, 30, 32)            60128     \n",
      "_________________________________________________________________\n",
      "lstm_14 (LSTM)               (None, 30, 64)            24832     \n",
      "_________________________________________________________________\n",
      "attention_9 (Attention)      (None, 64)                94        \n",
      "_________________________________________________________________\n",
      "dense_12 (Dense)             (None, 1)                 65        \n",
      "=================================================================\n",
      "Total params: 85,119\n",
      "Trainable params: 85,119\n",
      "Non-trainable params: 0\n",
      "_________________________________________________________________\n"
     ]
    }
   ],
   "source": [
    "inp = Input(shape=(s_length,))\n",
    "x = Embedding(input_dim = nb_tokens, \\\n",
    "              input_length = s_length, \\\n",
    "              output_dim = latent_dim,\\\n",
    "              embeddings_regularizer = keras.regularizers.l2(.001))(inp)\n",
    "\n",
    "x = LSTM(64, return_sequences = True, dropout = 0.2, recurrent_dropout = 0.2)(x)\n",
    "x = Attention()(x)\n",
    "\n",
    "out = Dense(1, activation='sigmoid')(x) #Our output neuron for the sentiment analysis.\n",
    "\n",
    "model = Model(inp, out)\n",
    "model.compile(loss = 'binary_crossentropy', optimizer = 'adam', metrics = ['accuracy'])\n",
    "model.summary()"
   ]
  },
  {
   "cell_type": "code",
   "execution_count": 73,
   "metadata": {},
   "outputs": [
    {
     "name": "stdout",
     "output_type": "stream",
     "text": [
      "Train on 800 samples, validate on 200 samples\n",
      "Epoch 1/15\n",
      "800/800 [==============================] - 4s 5ms/step - loss: 0.7305 - acc: 0.5075 - val_loss: 0.7185 - val_acc: 0.4550\n",
      "Epoch 2/15\n",
      "800/800 [==============================] - 1s 1ms/step - loss: 0.7077 - acc: 0.5150 - val_loss: 0.7041 - val_acc: 0.4550\n",
      "Epoch 3/15\n",
      "800/800 [==============================] - 1s 1ms/step - loss: 0.6960 - acc: 0.5162 - val_loss: 0.7005 - val_acc: 0.4600\n",
      "Epoch 4/15\n",
      "800/800 [==============================] - 1s 1ms/step - loss: 0.6755 - acc: 0.5950 - val_loss: 0.6486 - val_acc: 0.6600\n",
      "Epoch 5/15\n",
      "800/800 [==============================] - 1s 1ms/step - loss: 0.4699 - acc: 0.8013 - val_loss: 0.5786 - val_acc: 0.7450\n",
      "Epoch 6/15\n",
      "800/800 [==============================] - 1s 1ms/step - loss: 0.3029 - acc: 0.8962 - val_loss: 0.7135 - val_acc: 0.7300\n",
      "Epoch 7/15\n",
      "800/800 [==============================] - 1s 1ms/step - loss: 0.2250 - acc: 0.9300 - val_loss: 0.6067 - val_acc: 0.7550\n",
      "Epoch 8/15\n",
      "800/800 [==============================] - 1s 1ms/step - loss: 0.1604 - acc: 0.9575 - val_loss: 0.5412 - val_acc: 0.7900\n",
      "Epoch 9/15\n",
      "800/800 [==============================] - 1s 1ms/step - loss: 0.0882 - acc: 0.9888 - val_loss: 0.7759 - val_acc: 0.7700\n",
      "Epoch 10/15\n",
      "800/800 [==============================] - 1s 1ms/step - loss: 0.0831 - acc: 0.9825 - val_loss: 0.8523 - val_acc: 0.7800\n",
      "Epoch 11/15\n",
      "800/800 [==============================] - 1s 1ms/step - loss: 0.0711 - acc: 0.9825 - val_loss: 0.5363 - val_acc: 0.8250\n",
      "Epoch 12/15\n",
      "800/800 [==============================] - 1s 1ms/step - loss: 0.0776 - acc: 0.9875 - val_loss: 0.6414 - val_acc: 0.8350\n",
      "Epoch 13/15\n",
      "800/800 [==============================] - 1s 1ms/step - loss: 0.0806 - acc: 0.9812 - val_loss: 0.7106 - val_acc: 0.8000\n",
      "Epoch 14/15\n",
      "800/800 [==============================] - 1s 1ms/step - loss: 0.0615 - acc: 0.9862 - val_loss: 0.6803 - val_acc: 0.8150\n",
      "Epoch 15/15\n",
      "800/800 [==============================] - 1s 1ms/step - loss: 0.0490 - acc: 0.9937 - val_loss: 0.6976 - val_acc: 0.8250\n"
     ]
    },
    {
     "data": {
      "text/plain": [
       "[<matplotlib.lines.Line2D at 0x2e2ba916e10>]"
      ]
     },
     "execution_count": 73,
     "metadata": {},
     "output_type": "execute_result"
    },
    {
     "data": {
      "image/png": "[encoded data removed]",
      "text/plain": [
       "<Figure size 432x288 with 1 Axes>"
      ]
     },
     "metadata": {
      "needs_background": "light"
     },
     "output_type": "display_data"
    }
   ],
   "source": [
    "train_attention_history = model.fit(x = text_pad, y = df[1], \\\n",
    "                          batch_size = 64, epochs = 15, \\\n",
    "                          verbose = 1, shuffle = True, \\\n",
    "                          validation_split=0.2)\n",
    "plt.plot(train_no_attention_history.history[\"val_acc\"])\n",
    "plt.plot(train_attention_history.history[\"val_acc\"], color=\"red\")"
   ]
  },
  {
   "cell_type": "markdown",
   "metadata": {},
   "source": [
    "We see how the model with Attention Layer (in red) captured faster the distribution and achieved even better result."
   ]
  }
 ],
 "metadata": {
  "kernelspec": {
   "display_name": "Python 3",
   "language": "python",
   "name": "python3"
  },
  "language_info": {
   "codemirror_mode": {
    "name": "ipython",
    "version": 3
   },
   "file_extension": ".py",
   "mimetype": "text/x-python",
   "name": "python",
   "nbconvert_exporter": "python",
   "pygments_lexer": "ipython3",
   "version": "3.6.8"
  }
 },
 "nbformat": 4,
 "nbformat_minor": 2
}
